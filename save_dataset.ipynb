{
 "cells": [
  {
   "cell_type": "code",
   "execution_count": 1,
   "metadata": {},
   "outputs": [],
   "source": [
    "import os\n",
    "import sys\n",
    "import warnings\n",
    "import datetime\n",
    "import argparse\n",
    "from collections.abc import Iterable\n",
    "import pickle\n",
    "\n",
    "if not sys.warnoptions:\n",
    "    warnings.simplefilter(\"ignore\")\n",
    "\n",
    "import torch\n",
    "import numpy as np\n",
    "from sklearn.model_selection import ParameterGrid\n",
    "from sklearn.utils import shuffle\n",
    "from tensorboardX import SummaryWriter\n",
    "\n",
    "from src.data_utils import load_data_from_df, construct_dataset, MolDataset, mol_collate_func_reg"
   ]
  },
  {
   "cell_type": "code",
   "execution_count": 2,
   "metadata": {},
   "outputs": [],
   "source": [
    "def create_dataset_for_loader(path, target_name, dummy_node=True, formal_charge_one_hot=True):\n",
    "    filepath = os.path.join(path, target_name, target_name + '.csv')\n",
    "    save_name = os.path.join(path, target_name, target_name + '.p')\n",
    "    \n",
    "    x, y, target, _ = load_data_from_df(filepath, target_name, \n",
    "                                        dummyNode=dummy_node, formal_charge_one_hot=formal_charge_one_hot)\n",
    "    data_set = construct_dataset(x, y, target)\n",
    "    data_set = MolDataset(data_set)\n",
    "    pickle.dump(data_set, open(save_name, \"wb\"))"
   ]
  },
  {
   "cell_type": "code",
   "execution_count": null,
   "metadata": {},
   "outputs": [],
   "source": []
  },
  {
   "cell_type": "markdown",
   "metadata": {},
   "source": [
    "# Solubility"
   ]
  },
  {
   "cell_type": "code",
   "execution_count": 3,
   "metadata": {},
   "outputs": [
    {
     "name": "stdout",
     "output_type": "stream",
     "text": [
      "filted_atomtype_list_order: [6, 8, 17, 7, 9, 16, 35, 15, 53, 'Others'], \n",
      " filted_bondtype_list_order: ['6_6', '6_8', '8_8', '6_7', '17_17', '6_17', '7_7', '7_8', '9_9', '6_9', '6_16', '16_16', '8_15', '35_35', '6_35', 'Others']\n",
      "Transfer mol to matrices\n",
      "Done.\n"
     ]
    }
   ],
   "source": [
    "create_dataset_for_loader('./data', \n",
    "                          'freesolv')"
   ]
  },
  {
   "cell_type": "code",
   "execution_count": null,
   "metadata": {},
   "outputs": [],
   "source": []
  }
 ],
 "metadata": {
  "kernelspec": {
   "display_name": "Python 3",
   "language": "python",
   "name": "python3"
  },
  "language_info": {
   "codemirror_mode": {
    "name": "ipython",
    "version": 3
   },
   "file_extension": ".py",
   "mimetype": "text/x-python",
   "name": "python",
   "nbconvert_exporter": "python",
   "pygments_lexer": "ipython3",
   "version": "3.6.7"
  }
 },
 "nbformat": 4,
 "nbformat_minor": 2
}
